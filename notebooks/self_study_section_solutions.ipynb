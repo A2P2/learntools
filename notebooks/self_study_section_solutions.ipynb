{
  "nbformat": 4,
  "nbformat_minor": 0,
  "metadata": {
    "colab": {
      "name": "self_study_section_solutions.ipynb",
      "provenance": [],
      "collapsed_sections": []
    },
    "kernelspec": {
      "name": "python3",
      "display_name": "Python 3"
    },
    "language_info": {
      "name": "python"
    }
  },
  "cells": [
    {
      "cell_type": "markdown",
      "metadata": {
        "id": "nYMDI7xpZia4"
      },
      "source": [
        "# Rules.\n",
        "\n",
        "---\n",
        "Exercises in this notebook are meant to recap things that you have learned during the tutorial. <br>\n",
        "After each exercise you can run a check (e.g. `ex_1.check()`) to see if you did it correctly or you can ask for a hint (e.g. `ex_1.hint()` if you need some help. <br>\n",
        "Read the exercises carefully in order to do it correctly. If we ask you to create a variable with a specific name, then you have to use that name.\n",
        "\n",
        "<b>Success!</b>\n"
      ]
    },
    {
      "cell_type": "code",
      "metadata": {
        "id": "KGCpJsckBRfE",
        "cellView": "form"
      },
      "source": [
        "#@title Run this cell to setup the Python\n",
        "import numpy as np\n",
        "import matplotlib.pyplot as plt\n",
        "\n",
        "!pip install git+https://github.com/A2P2/learntools.git &> /dev/null\n",
        "\n",
        "\n",
        "from learntools.core import binder\n",
        "binder.bind(globals())\n",
        "#from learntools.core import *\n",
        "\n",
        "from learntools.python_tutorial.self_study import *\n",
        "from learntools.python_tutorial.self_study import get_final_result\n",
        "\n",
        "print('The notebook enviroment is prepared')"
      ],
      "execution_count": null,
      "outputs": []
    },
    {
      "cell_type": "markdown",
      "metadata": {
        "id": "GUGYAEuTBdcI"
      },
      "source": [
        "# Exercise 1. Measuring length.\n",
        "\n",
        "---\n",
        "\n",
        "\n",
        "An RNA sequence is provided below in the variable `RNA`. Calculate the number of nucleotides in this sequence and save it in the variable `RNA_length`."
      ]
    },
    {
      "cell_type": "code",
      "metadata": {
        "id": "XnutrsejB6RR"
      },
      "source": [
        "RNA = 'ACACGUCCAACUCAGUUUGCCUGUUUUACAGGUUCGCGACGUGCUCGUACGUGGCUUUGGAGACUCCGUGGAGGAGGUCUUAUCAGAGGCACGUCAACAUCUUAAAGAUGGCACUUGUGGCUUAGUAGAAGUUGAAAAAGGCGUUUUGCCUCAACUUGAACAGCCCUAUGUGUUCAUCAAACGUUCGGAUGCUCGAACUGCACCUCAUGGUCAUGUUAUGGUUGAGCUGGUGCAGAACUCGAAGGCAUUCAGUACGGUCGUAGUGGUGAGACACUUGGUGUCCUUGUCCCUCAUGUGGGCGAAAUACCAGUGGCUUACCGCAAGGUUCUUCUUCGUAAGAACGGUAAUAAAGGAGCUGGUGGCCAUAGUUACGGCGCCGAUCUAA'"
      ],
      "execution_count": null,
      "outputs": []
    },
    {
      "cell_type": "code",
      "metadata": {
        "id": "ArR6_qpNbjhP"
      },
      "source": [
        "#Write your solution below."
      ],
      "execution_count": null,
      "outputs": []
    },
    {
      "cell_type": "code",
      "metadata": {
        "id": "E1F9TkZ_XVKZ"
      },
      "source": [
        "RNA_length = len(RNA)"
      ],
      "execution_count": null,
      "outputs": []
    },
    {
      "cell_type": "code",
      "metadata": {
        "id": "BMEADFKgERXZ"
      },
      "source": [
        "#Run this cell to check the exercise.\n",
        "ex_1.check()"
      ],
      "execution_count": null,
      "outputs": []
    },
    {
      "cell_type": "code",
      "metadata": {
        "id": "luF4I4z5XcRK"
      },
      "source": [
        "#Uncomment the next line and run the cell if you need a hint.\n",
        "ex_1.hint()"
      ],
      "execution_count": null,
      "outputs": []
    },
    {
      "cell_type": "markdown",
      "metadata": {
        "id": "9Gr0OvH-EgR8"
      },
      "source": [
        "# Exercise 2. Operations with arrays.\n",
        "\n",
        "---\n",
        "\n",
        "\n",
        "Create a numpy array called `x_array` containing integer numbers from 0 up to and including 30. Hint: to do it quickly you have to use both range() and np.array(). Multiply this array by 3 and exponentiate it to a power of 2. Save the result in the variable `y_array`. Plot a graph with `x_array` on the x-axis, and `y_array` on the y-axis. Name the plot `figure_2` (`figure_2 = plt.figure()`), label the axes with 'x' and 'y'."
      ]
    },
    {
      "cell_type": "code",
      "metadata": {
        "id": "FrMOjfRS3V1t"
      },
      "source": [
        "#Write the code below\n",
        "\n",
        "\n",
        "\n",
        "figure_2 = plt.figure()\n",
        "#Write the code to plot the arrays below:"
      ],
      "execution_count": null,
      "outputs": []
    },
    {
      "cell_type": "code",
      "metadata": {
        "id": "SNi2K-ODXfeF"
      },
      "source": [
        "x_array = np.array(range(0,31,1))\n",
        "y_array = (x_array*3)**2\n",
        "\n",
        "figure_2 = plt.figure()\n",
        "plt.plot(x_array, y_array)\n",
        "plt.xlabel('x')\n",
        "plt.ylabel('y')"
      ],
      "execution_count": null,
      "outputs": []
    },
    {
      "cell_type": "code",
      "metadata": {
        "id": "pIzYI2WmXpO9"
      },
      "source": [
        "#Run this cell to check the exercise.\n",
        "ex_2.check()"
      ],
      "execution_count": null,
      "outputs": []
    },
    {
      "cell_type": "code",
      "metadata": {
        "id": "DQOB71Bfb255"
      },
      "source": [
        "#Uncomment the next line and run the cell if you need a hint.\n",
        "ex_2.hint()"
      ],
      "execution_count": null,
      "outputs": []
    },
    {
      "cell_type": "markdown",
      "metadata": {
        "id": "sK0zCE19Fp7D"
      },
      "source": [
        "# Exercise 3. Writing functions.\n",
        "\n",
        "\n",
        "---\n",
        "\n",
        "\n",
        "Write a function `first_and_last` that takes a list of numbers as an argument and makes a new list of only the first and last elements of the given list. For example, a = [5, 15, 10, 15, 25] will be converted to b = [5, 25]. Test your function with a list of numbers of your choice."
      ]
    },
    {
      "cell_type": "code",
      "metadata": {
        "id": "stPJ2gOj1YIm"
      },
      "source": [
        "#Write your code below.\n",
        "\n"
      ],
      "execution_count": null,
      "outputs": []
    },
    {
      "cell_type": "code",
      "metadata": {
        "id": "qJRxvRs1ZKNN"
      },
      "source": [
        "def first_and_last(a):\n",
        "  b = [a[0], a[-1]]\n",
        "  return b"
      ],
      "execution_count": null,
      "outputs": []
    },
    {
      "cell_type": "code",
      "metadata": {
        "id": "245J6ThiZYFf"
      },
      "source": [
        "first_and_last([1, 6, 2, 5])"
      ],
      "execution_count": null,
      "outputs": []
    },
    {
      "cell_type": "code",
      "metadata": {
        "id": "WNcVbezUYeZY"
      },
      "source": [
        "#Run this cell to check the exercise.\n",
        "ex_3.check()"
      ],
      "execution_count": null,
      "outputs": []
    },
    {
      "cell_type": "code",
      "metadata": {
        "id": "K_2QMRMPYgMu"
      },
      "source": [
        "#Uncomment the next line and run the cell if you need a hint.\n",
        "ex_3.hint()"
      ],
      "execution_count": null,
      "outputs": []
    },
    {
      "cell_type": "markdown",
      "metadata": {
        "id": "9Q5SmIHVGDO6"
      },
      "source": [
        "# Exercise 4. Using dictionaries.\n",
        "\n",
        "\n",
        "---\n",
        "\n",
        "\n",
        "Create a dictionary `codon_dict` with a short version of the RNA codon table shown below. Using the information stored in this dictionary print the following sentence: 'Codon XXX codes the YYY amino acid.', where XXX is the \n",
        "codon from the table of you choice and YYY - is the coresponding amino acid."
      ]
    },
    {
      "cell_type": "markdown",
      "metadata": {
        "id": "qZdBI-jWaOv3"
      },
      "source": [
        "| Codon  |Amino acid|\n",
        "| --- | --- | \n",
        "| UCA| Ser | \n",
        "| GCC | Ala |\n",
        "| CGA | Arg |\n",
        "| UUU | Phe |\n",
        "| GGG | Gly |\n",
        "| AAG | Lys |"
      ]
    },
    {
      "cell_type": "code",
      "metadata": {
        "id": "DKs6J-N6YamY"
      },
      "source": [
        "codon_dict = {\n",
        "    'UCA' : 'Ser',\n",
        "    'GCC' : 'Ala',\n",
        "    'CGA' : 'Arg',\n",
        "    'UUU' : 'Phe',\n",
        "    'GGG' : 'Gly',\n",
        "    'AAG' : 'Lys',\n",
        "}\n",
        "\n",
        "print('Codon GCC codes the amino acid ' + str(codon_dict['GCC']) + '.')"
      ],
      "execution_count": null,
      "outputs": []
    },
    {
      "cell_type": "code",
      "metadata": {
        "id": "6M-tJ0imYao-"
      },
      "source": [
        "#Run this cell to check the exercise.\n",
        "ex_4.check()"
      ],
      "execution_count": null,
      "outputs": []
    },
    {
      "cell_type": "code",
      "metadata": {
        "id": "cNl5qCmmYcTK"
      },
      "source": [
        "#Uncomment the next line and run the cell if you need a hint.\n",
        "ex_4.hint()"
      ],
      "execution_count": null,
      "outputs": []
    },
    {
      "cell_type": "markdown",
      "metadata": {
        "id": "ZmLYxD4wKzRS"
      },
      "source": [
        "# Exercise 5. Yeast competition. (2 points)\n",
        "\n",
        "\n",
        "---\n",
        "\n",
        "\n",
        "A colleague of yours, Sarah, has performed an experiment with two different \n",
        "types of yeast (for simplicity, we will call them strain 1 and strain 2). She has measured amount of CO2 released by each strain. Her data in the table format is provided below. <br>\n",
        "\n",
        "| | | | | | | | | | |\n",
        "| - | | | | | | | | | |\n",
        "| Time, h| 0 | 12| 24| 36| 48| 60| 72| 84| 96|\n",
        "| CO2 from Strain 1, g | 0| 0.8| 2.5| 3.8| 4.5| 4.9| 5.0| 5.2| 5.3|\n",
        "| CO2 from Strain 2, g | 0| 0.1| 0.3| 0.6| 1.0| 1.4| 1.8| 2.2| 2.6|\n",
        "\n",
        "<b>Exercise 5a.</b> Create three lists with the data from the table. Give the lists clear names of you choice. Plot her data as points. Which strain was growing the fastest? (Use different line colors to differentiate between strains).  Name your plot `figure 5a` (`figure 5a = plt.figure()`).<br>\n"
      ]
    },
    {
      "cell_type": "code",
      "metadata": {
        "id": "KNTE9rkY5BnM"
      },
      "source": [
        "#Write your code below\n",
        "\n",
        "\n",
        "\n",
        "figure_5a = plt.figure()\n",
        "#Write your code for plotting below\n"
      ],
      "execution_count": null,
      "outputs": []
    },
    {
      "cell_type": "code",
      "metadata": {
        "id": "OsqV0M2Vieg6"
      },
      "source": [
        "time = [0, 12, 24, 36, 48, 60, 72, 84, 96]\n",
        "co2_strain1 = [0, 0.8, 2.5, 3.8, 4.5, 4.9, 5.0, 5.2, 5.3]\n",
        "co2_strain2 = [0, 0.1, 0.3, 0.6, 1.0, 1.4, 1.8, 2.2, 2.6]\n",
        "\n",
        "figure_5a = plt.figure()\n",
        "plt.plot(time, co2_strain1, \"o\")\n",
        "plt.plot(time, co2_strain2, \"o\")\n",
        "plt.xlabel('Time, h')\n",
        "plt.ylabel('CO2, g')"
      ],
      "execution_count": null,
      "outputs": []
    },
    {
      "cell_type": "code",
      "metadata": {
        "id": "zBSC-inEZt3C"
      },
      "source": [
        "#Run this cell to check the exercise.\n",
        "ex_5a.check()"
      ],
      "execution_count": null,
      "outputs": []
    },
    {
      "cell_type": "code",
      "metadata": {
        "id": "y2XiqvnN5ZGT"
      },
      "source": [
        "#Uncomment the next line and run the cell if you need a hint.\n",
        "ex_5a.hint()"
      ],
      "execution_count": null,
      "outputs": []
    },
    {
      "cell_type": "markdown",
      "metadata": {
        "id": "RcCBCroJLH0s"
      },
      "source": [
        "<b>Exercise 5b.</b> While you were busy plotting your colleague has measured two more points at time 108 h: 4.0 g for Strain 1 and 0.3 g for Strain 2. Append these points to the previous data and plot it again on a new graph.   Name your plot `figure 5b` (`figure 5b = plt.figure()`). "
      ]
    },
    {
      "cell_type": "code",
      "metadata": {
        "id": "0tHvNYcWdxEF"
      },
      "source": [
        "time.append(108)\n",
        "co2_strain1.append(4.0)\n",
        "co2_strain2.append(0.3)\n",
        "\n",
        "figure_5b = plt.figure()\n",
        "plt.plot(time, co2_strain1, \"o\")\n",
        "plt.plot(time, co2_strain2, \"o\")\n",
        "plt.xlabel('Time, h')\n",
        "plt.ylabel('CO2, g')"
      ],
      "execution_count": null,
      "outputs": []
    },
    {
      "cell_type": "code",
      "metadata": {
        "id": "hurnAZSTaGeX"
      },
      "source": [
        "#Run this cell to check the exercise.\n",
        "ex_5b.check()"
      ],
      "execution_count": null,
      "outputs": []
    },
    {
      "cell_type": "code",
      "metadata": {
        "id": "rqkQyO1y5auQ"
      },
      "source": [
        "#Uncomment the next line and run the cell if you need a hint.\n",
        "ex_5b.hint()"
      ],
      "execution_count": null,
      "outputs": []
    },
    {
      "cell_type": "markdown",
      "metadata": {
        "id": "M51SLM4E6CmC"
      },
      "source": [
        "What do you think about new points measured by Sarah? Uncomment the line in the next cell to compare your thought with the answer."
      ]
    },
    {
      "cell_type": "code",
      "metadata": {
        "id": "sZBTFknZ6Btj"
      },
      "source": [
        "#Uncomment the next line to compare your thoughts with the solution\n",
        "ex_5b.solution()"
      ],
      "execution_count": null,
      "outputs": []
    },
    {
      "cell_type": "markdown",
      "metadata": {
        "id": "4eD442i2GT8n"
      },
      "source": [
        "# Exercise 6. Substrate inhibition. (2 points)\n",
        "\n",
        "---\n",
        "\n",
        "Substrate inhibition is a type of response observed for kinetics of some enzymes. If often has important biological functions. For example, dopamine produced in our bodies comes from tyrosine in our food. Despite the fact that amount of tyrosine in our food significantly varies, production of dopamine in our bodies is rather constant. This behaviour is caused by substrate inhibition of tyrosine hydroxylase (enzyme that converts tyrosine to dopamine) by tyrosine. (Reed et al. Bioessays 32: 422–429, 2010) Let's explore why it happens. We will use these two equations:<br>\n",
        "<font size = 4><center>Standard Michaelis-Menten equation: $ V = V_{max} \\cdot \\frac{S}{S + K_{M}}$ <br>\n",
        "Michaelis-Menten equation with substrate inhibition: $ V = V_{max} \\cdot \\frac{S}{S \\cdot (1 + \\frac{S}{K_{inh}}) + K_{M}}$<br></font>\n",
        "where $S$ - substrate concentration ($\\mu M$), $V_{max}$ -  the maximum velocity of the reaction ($\\mu M/min$),$K_{M}$ - the Michaelis constant ($\\mu M$), and $K_{inh}$ - the substrate inhibition constant ($\\mu M$). <br></center>\n",
        "\n",
        "<b> Exercise 6a:</b> Write two functions: `michaelis_menten` and `mm_substrate_inhibition`. Function `michaelis_menten` should be identical to the function used in the tutorial, it takes three input arguments and calculates the rate according to the Michaelis_menten equation. Function `mm_substrate_inhibition` should take 4 input arguments: $S, Vmax, Km, Kinh$ (in this order!). Check that your functions work with parameters of your choice.\n"
      ]
    },
    {
      "cell_type": "code",
      "metadata": {
        "id": "rRU-tc7TV_Sf"
      },
      "source": [
        "def michaelis_menten(S, Vmax, Km):\n",
        "  v = Vmax * S / (Km + S)\n",
        "  return v\n",
        "\n",
        "def mm_substrate_inhibition(S, Vmax, Km, Kinh):\n",
        "  v = Vmax * S / (Km + S * (1 + S / Kinh))\n",
        "  return v"
      ],
      "execution_count": null,
      "outputs": []
    },
    {
      "cell_type": "code",
      "metadata": {
        "id": "vicWbqSu2YS6"
      },
      "source": [
        "#Run this cell to check the exercise.\n",
        "ex_6a.check()"
      ],
      "execution_count": null,
      "outputs": []
    },
    {
      "cell_type": "code",
      "metadata": {
        "id": "UoN6syNJZA5Z"
      },
      "source": [
        "#Uncomment the next line and run the cell if you need a hint.\n",
        "ex_6a.hint()"
      ],
      "execution_count": null,
      "outputs": []
    },
    {
      "cell_type": "markdown",
      "metadata": {
        "id": "TWQCEdVYV63g"
      },
      "source": [
        "<b> Exercise 6b:</b> Using your functions from above plot <b>three</b> lines on a graph - one using the `michaelis_menten` function and two using the `mm_substrate_inhibition` function with different inhibition constants. For all three lines use these common parameters: substrate range $S$ from 0 up to and including 100 $\\mu M$, $V_{max} = 50 \\mu M/min$, $K_{M} = 25 \\mu M$ and $K_{inh} = 75 \\mu M$ for one line and $K_{inh} = 10 \\mu M$ for the second line.\n",
        "Important: Don't forget to label your axes! A graph without axes labels is a meaningless graph (see [image](https://raw.githubusercontent.com/A2P2/learntools/master/learntools/python_tutorial/41203a9c.jpg.505x650_q85.jpg)). Name your graph `figure_6b` (`figure_6b = plt.figure()\n",
        "`).\n"
      ]
    },
    {
      "cell_type": "code",
      "metadata": {
        "id": "NP4L2LK842C-"
      },
      "source": [
        "#Write your code below\n",
        "\n",
        "\n",
        "\n",
        "\n",
        "figure_6b = plt.figure()\n",
        "#Write your code for plotting below\n",
        "\n"
      ],
      "execution_count": null,
      "outputs": []
    },
    {
      "cell_type": "code",
      "metadata": {
        "id": "WKpDxTkVYPvr"
      },
      "source": [
        "S = np.array(range(0,105,5))\n",
        "mm = michaelis_menten(S, 50, 25)\n",
        "mm_si_01 = mm_substrate_inhibition(S, 50, 25, 10)\n",
        "mm_si_02 = mm_substrate_inhibition(S, 50, 25, 75)\n",
        "\n",
        "figure_6b = plt.figure()\n",
        "plt.plot(S, mm)\n",
        "plt.plot(S, mm_si_01)\n",
        "plt.plot(S, mm_si_02)\n",
        "plt.xlabel('[S], uM')\n",
        "plt.ylabel('Rate, uM/min')"
      ],
      "execution_count": null,
      "outputs": []
    },
    {
      "cell_type": "code",
      "metadata": {
        "id": "y8aOg0T_jB8c"
      },
      "source": [
        "#Run this cell to check the exercise.\n",
        "ex_6b.check()"
      ],
      "execution_count": null,
      "outputs": []
    },
    {
      "cell_type": "code",
      "metadata": {
        "id": "dKUhxom44l4f"
      },
      "source": [
        "#Uncomment the next line and run the cell if you need a hint.\n",
        "ex_6b.hint()"
      ],
      "execution_count": null,
      "outputs": []
    },
    {
      "cell_type": "markdown",
      "metadata": {
        "id": "NrrqH5rnOITf"
      },
      "source": [
        "Compare the lines without substrate inhibition (pure Michaelis-Menten kinetics) and with substrate inhibition with $K_{inh} = 75 mM$. Think of an explanation of why the substrate inhibition kinetics is expected to produce dopamine more steadily. <br>\n",
        "After thinking uncomment the line in the next cell and compare your thought with the solution."
      ]
    },
    {
      "cell_type": "code",
      "metadata": {
        "id": "8-BkN3gVMxMw"
      },
      "source": [
        "#Uncomment the next line to compare your thoughts with the solution\n",
        "ex_6b.solution()"
      ],
      "execution_count": null,
      "outputs": []
    },
    {
      "cell_type": "markdown",
      "metadata": {
        "id": "6qR_NXYQVRge"
      },
      "source": [
        "# Final result.\n",
        "\n",
        "---\n",
        "Run the next cell to see how many points you got and to receive some feedback.\n"
      ]
    },
    {
      "cell_type": "code",
      "metadata": {
        "id": "-BWLgexQFJ3x"
      },
      "source": [
        "get_final_result()"
      ],
      "execution_count": null,
      "outputs": []
    }
  ]
}